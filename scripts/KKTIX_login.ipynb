{
 "metadata": {
  "name": "",
  "signature": "sha256:4643a6e1b17d10c1650332fc6151583b5ef3476f8e8f0c872cb16d8e4ed52375"
 },
 "nbformat": 3,
 "nbformat_minor": 0,
 "worksheets": [
  {
   "cells": [
    {
     "cell_type": "code",
     "collapsed": false,
     "input": [
      "import requests\n",
      "from pyquery import PyQuery as pq"
     ],
     "language": "python",
     "metadata": {},
     "outputs": [],
     "prompt_number": 1
    },
    {
     "cell_type": "code",
     "collapsed": false,
     "input": [
      "KKTIX = 'https://kktix.com'\n",
      "kktix_url = lambda s: KKTIX + s\n",
      "PYCON_ORG = kktix_url('/dashboard/organizations/pycontw')"
     ],
     "language": "python",
     "metadata": {},
     "outputs": [],
     "prompt_number": 2
    },
    {
     "cell_type": "code",
     "collapsed": false,
     "input": [
      "fake_firefox_headers ={\n",
      "    \"User-Agent\": \"Mozilla/5.0 (Windows NT 6.1; WOW64; rv:20.0) Gecko/20100101 Firefox/20.0\",\n",
      "    \"Accept-Language\": \"zh-TW,en_US\",\n",
      "    \"Connection\": \"keep-alive\",\n",
      "    \"DNT\" :\"1\"\n",
      "}"
     ],
     "language": "python",
     "metadata": {},
     "outputs": [],
     "prompt_number": 3
    },
    {
     "cell_type": "code",
     "collapsed": false,
     "input": [
      "s = requests.Session()\n",
      "s.headers.update(fake_firefox_headers)\n",
      "s.get(KKTIX)\n",
      "\n",
      "s.cookies.update({\n",
      "    \"i18next\": \"zh-TW\",\n",
      "    \"locale\": \"en\"\n",
      "})"
     ],
     "language": "python",
     "metadata": {},
     "outputs": [],
     "prompt_number": 4
    },
    {
     "cell_type": "code",
     "collapsed": false,
     "input": [
      "r = s.get(kktix_url('/users/sign_in?locale=en'))\n",
      "s.headers.update({'referer': 'https://kktix.com/users/sign_in?locale=en'})"
     ],
     "language": "python",
     "metadata": {},
     "outputs": [],
     "prompt_number": 5
    },
    {
     "cell_type": "code",
     "collapsed": false,
     "input": [
      "login_payload = {\n",
      "    'utf8': \"&#x2713;\",\n",
      "    'authenticity_token': s.cookies['XSRF-TOKEN'],\n",
      "    'user[remember_me]': \"0\"\u001c",
      ",\n",
      "    'commit': \"Sign In\",\n",
      "    'user[login]': \"@gmail.com\",  #  KKTIX \u5e33\n",
      "    'user[password]': \"\"  # KKTIX \u5bc6\n",
      "}"
     ],
     "language": "python",
     "metadata": {},
     "outputs": [],
     "prompt_number": 6
    },
    {
     "cell_type": "code",
     "collapsed": false,
     "input": [
      "login_r = s.post(kktix_url('/users/sign_in'), params=login_payload, allow_redirects=True)"
     ],
     "language": "python",
     "metadata": {},
     "outputs": [],
     "prompt_number": 7
    },
    {
     "cell_type": "code",
     "collapsed": false,
     "input": [
      "login_r, login_r.history"
     ],
     "language": "python",
     "metadata": {},
     "outputs": [
      {
       "metadata": {},
       "output_type": "pyout",
       "prompt_number": 8,
       "text": [
        "(<Response [422]>, [])"
       ]
      }
     ],
     "prompt_number": 8
    },
    {
     "cell_type": "code",
     "collapsed": false,
     "input": [
      "r = s.get(PYCON_ORG)"
     ],
     "language": "python",
     "metadata": {},
     "outputs": [],
     "prompt_number": 9
    },
    {
     "cell_type": "code",
     "collapsed": false,
     "input": [
      "s.headers"
     ],
     "language": "python",
     "metadata": {},
     "outputs": [
      {
       "metadata": {},
       "output_type": "pyout",
       "prompt_number": 10,
       "text": [
        "CaseInsensitiveDict({'referer': 'https://kktix.com/users/sign_in?locale=en', 'Accept': '*/*', 'Connection': 'keep-alive', 'DNT': '1', 'Accept-Encoding': 'gzip, deflate, compress', 'User-Agent': 'Mozilla/5.0 (Windows NT 6.1; WOW64; rv:20.0) Gecko/20100101 Firefox/20.0', 'Accept-Language': 'zh-TW,en_US'})"
       ]
      }
     ],
     "prompt_number": 10
    },
    {
     "cell_type": "code",
     "collapsed": false,
     "input": [
      "s.cookies"
     ],
     "language": "python",
     "metadata": {},
     "outputs": []
    },
    {
     "cell_type": "code",
     "collapsed": false,
     "input": [],
     "language": "python",
     "metadata": {},
     "outputs": []
    }
   ],
   "metadata": {}
  }
 ]
}